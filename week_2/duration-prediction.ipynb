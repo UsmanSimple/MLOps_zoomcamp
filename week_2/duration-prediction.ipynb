{
 "cells": [
  {
   "cell_type": "code",
   "execution_count": 1,
   "source": [
    "import pandas as pd\r\n",
    "import numpy as np\r\n",
    "import seaborn as sns\r\n",
    "import matplotlib.pyplot as plt"
   ],
   "outputs": [],
   "metadata": {}
  },
  {
   "cell_type": "code",
   "execution_count": 2,
   "source": [
    "from sklearn.feature_extraction import DictVectorizer\r\n",
    "from sklearn.linear_model import LinearRegression, Lasso, Ridge, ElasticNet\r\n",
    "from sklearn.metrics import mean_squared_error"
   ],
   "outputs": [],
   "metadata": {}
  },
  {
   "cell_type": "code",
   "execution_count": 3,
   "source": [
    "import mlflow"
   ],
   "outputs": [],
   "metadata": {}
  },
  {
   "cell_type": "code",
   "execution_count": 4,
   "source": [
    "import pickle"
   ],
   "outputs": [],
   "metadata": {}
  },
  {
   "cell_type": "code",
   "execution_count": 5,
   "source": [
    "# set the tracking uri for the mlflow- backend with sqlite database\r\n",
    "mlflow.set_tracking_uri(\"sqlite:///ml_flow.db\")\r\n",
    "\r\n",
    "# set experiment name\r\n",
    "mlflow.set_experiment(\"usman-practice-experiment-1\")\r\n"
   ],
   "outputs": [
    {
     "output_type": "execute_result",
     "data": {
      "text/plain": [
       "<Experiment: artifact_location='./mlruns/1', experiment_id='1', lifecycle_stage='active', name='usman-practice-experiment-1', tags={}>"
      ]
     },
     "metadata": {},
     "execution_count": 5
    }
   ],
   "metadata": {}
  },
  {
   "cell_type": "code",
   "execution_count": 6,
   "source": [
    "def read_dataframe(file_name):\r\n",
    "\r\n",
    "    df = pd.read_parquet(file_name)\r\n",
    "\r\n",
    "\r\n",
    "    df['duration'] = df.lpep_dropoff_datetime - df.lpep_pickup_datetime\r\n",
    "    df.duration = df.duration.apply(lambda td: td.total_seconds() / 60)\r\n",
    "\r\n",
    "\r\n",
    "    df = df[(df.duration >= 1) & (df.duration <= 60)]\r\n",
    "\r\n",
    "    categorical = ['PULocationID', 'DOLocationID']\r\n",
    "    df[categorical] = df[categorical].astype(str)\r\n",
    "    \r\n",
    "    return df"
   ],
   "outputs": [],
   "metadata": {}
  },
  {
   "cell_type": "code",
   "execution_count": 7,
   "source": [
    "train_df = read_dataframe('./Data/green_tripdata_2021-01.parquet')\r\n",
    "test_df = read_dataframe('./Data/green_tripdata_2021-02.parquet')"
   ],
   "outputs": [],
   "metadata": {}
  },
  {
   "cell_type": "code",
   "execution_count": 8,
   "source": [
    "print(f'The size of the train set is: {train_df.shape[0]} rows and {train_df.shape[1]} columns')\r\n",
    "print(f'The size of the test set is: {test_df.shape[0]} rows and {test_df.shape[1]} columns')"
   ],
   "outputs": [
    {
     "output_type": "stream",
     "name": "stdout",
     "text": [
      "The size of the train set is: 73908 rows and 21 columns\n",
      "The size of the test set is: 61921 rows and 21 columns\n"
     ]
    }
   ],
   "metadata": {}
  },
  {
   "cell_type": "code",
   "execution_count": 8,
   "source": [
    "train_df.info()"
   ],
   "outputs": [
    {
     "output_type": "stream",
     "name": "stdout",
     "text": [
      "<class 'pandas.core.frame.DataFrame'>\n",
      "Int64Index: 73908 entries, 0 to 76517\n",
      "Data columns (total 21 columns):\n",
      " #   Column                 Non-Null Count  Dtype         \n",
      "---  ------                 --------------  -----         \n",
      " 0   VendorID               73908 non-null  int64         \n",
      " 1   lpep_pickup_datetime   73908 non-null  datetime64[ns]\n",
      " 2   lpep_dropoff_datetime  73908 non-null  datetime64[ns]\n",
      " 3   store_and_fwd_flag     38175 non-null  object        \n",
      " 4   RatecodeID             38175 non-null  float64       \n",
      " 5   PULocationID           73908 non-null  object        \n",
      " 6   DOLocationID           73908 non-null  object        \n",
      " 7   passenger_count        38175 non-null  float64       \n",
      " 8   trip_distance          73908 non-null  float64       \n",
      " 9   fare_amount            73908 non-null  float64       \n",
      " 10  extra                  73908 non-null  float64       \n",
      " 11  mta_tax                73908 non-null  float64       \n",
      " 12  tip_amount             73908 non-null  float64       \n",
      " 13  tolls_amount           73908 non-null  float64       \n",
      " 14  ehail_fee              0 non-null      object        \n",
      " 15  improvement_surcharge  73908 non-null  float64       \n",
      " 16  total_amount           73908 non-null  float64       \n",
      " 17  payment_type           38175 non-null  float64       \n",
      " 18  trip_type              38175 non-null  float64       \n",
      " 19  congestion_surcharge   38175 non-null  float64       \n",
      " 20  duration               73908 non-null  float64       \n",
      "dtypes: datetime64[ns](2), float64(14), int64(1), object(4)\n",
      "memory usage: 12.4+ MB\n"
     ]
    }
   ],
   "metadata": {}
  },
  {
   "cell_type": "code",
   "execution_count": 9,
   "source": [
    "def preprocess_data(train_df, test_df):\r\n",
    "    \r\n",
    "    train_df['PU_DO'] = train_df['PULocationID'] + '_' + train_df['DOLocationID']\r\n",
    "    test_df['PU_DO'] = test_df['PULocationID'] + '_' + test_df['DOLocationID']\r\n",
    "\r\n",
    "    categorical = ['PU_DO'] \r\n",
    "    numerical = ['trip_distance']\r\n",
    "\r\n",
    "    target = 'duration'\r\n",
    "\r\n",
    "\r\n",
    "    dv = DictVectorizer()\r\n",
    "\r\n",
    "\r\n",
    "    train_dicts = train_df[categorical + numerical].to_dict(orient='records')\r\n",
    "    X_train = dv.fit_transform(train_dicts)\r\n",
    "\r\n",
    "    test_dicts = test_df[categorical + numerical].to_dict(orient='records')\r\n",
    "    X_test = dv.transform(test_dicts)\r\n",
    "\r\n",
    "    y_train = train_df[target].values\r\n",
    "    y_test = test_df[target].values\r\n",
    "\r\n",
    "    return dv, X_train, y_train, X_test, y_test\r\n"
   ],
   "outputs": [],
   "metadata": {}
  },
  {
   "cell_type": "code",
   "execution_count": 10,
   "source": [
    "dv, X_train, y_train, X_test, y_test = preprocess_data(train_df, test_df)"
   ],
   "outputs": [],
   "metadata": {}
  },
  {
   "cell_type": "code",
   "execution_count": 11,
   "source": [
    "## train and test a the linear regression model on the data\r\n",
    "lr = LinearRegression()\r\n",
    "lr.fit(X_train, y_train)\r\n",
    "\r\n",
    "y_pred = lr.predict(X_test)\r\n",
    "\r\n",
    "print(f'rmse of the test_data: {mean_squared_error(y_test, y_pred, squared=False)}')"
   ],
   "outputs": [
    {
     "output_type": "stream",
     "name": "stdout",
     "text": [
      "rmse of the test_data: 7.758715199477344\n"
     ]
    }
   ],
   "metadata": {}
  },
  {
   "cell_type": "code",
   "execution_count": 12,
   "source": [
    "with open(\"./models/preprocessor.b\", 'wb') as processor:\r\n",
    "    pickle.dump(dv, processor)"
   ],
   "outputs": [],
   "metadata": {}
  },
  {
   "cell_type": "markdown",
   "source": [
    "## MY FIRST EXPERIMENT "
   ],
   "metadata": {}
  },
  {
   "cell_type": "code",
   "execution_count": 13,
   "source": [
    "## use mlflow to portray and experiment the four linear algorithm\r\n",
    "## Compare the error between the Linear_regression algrithm and Regularised Linear algorithm such as Ridge Regression, LASSO and ElasticNet\r\n",
    "\r\n",
    "model_dict = {\r\n",
    "    'lin_reg':LinearRegression,\r\n",
    "    'ridge_reg':Ridge,\r\n",
    "    'elastic_net':ElasticNet,\r\n",
    "    'lasso':Lasso\r\n",
    "}\r\n",
    "\r\n",
    "for reg, model in model_dict.items():\r\n",
    "    with mlflow.start_run(experiment_id=1):\r\n",
    "        \r\n",
    "        mlflow.set_tag('developer', 'Usman')\r\n",
    "\r\n",
    "        mlflow.set_tag(\"model\", reg)\r\n",
    "\r\n",
    "        mlflow.log_param('train-data-path', './Data/green_tripdata_2021-01.parquet')\r\n",
    "\r\n",
    "        mlflow.log_param('test-data-path', './Data/green_tripdata_2021-02.parquet')\r\n",
    "\r\n",
    "        reg = model()\r\n",
    "\r\n",
    "        reg.fit(X_train, y_train)\r\n",
    "\r\n",
    "        y_pred = reg.predict(X_test)\r\n",
    "\r\n",
    "        mlflow.log_artifact(\"./models/preprocessor.b\", artifact_path=\"preprocessor\")\r\n",
    "\r\n",
    "\r\n",
    "        rmse = mean_squared_error(y_test, y_pred, squared=False)\r\n",
    "        \r\n",
    "\r\n",
    "        mlflow.log_metric('rmse', rmse)"
   ],
   "outputs": [],
   "metadata": {}
  },
  {
   "cell_type": "markdown",
   "source": [
    "## MY SECOND EXPERIMENT WITH AUTOLOG"
   ],
   "metadata": {}
  },
  {
   "cell_type": "code",
   "execution_count": 14,
   "source": [
    "mlflow.set_experiment(\"usman-practice-experiment-2\")"
   ],
   "outputs": [
    {
     "output_type": "execute_result",
     "data": {
      "text/plain": [
       "<Experiment: artifact_location='./mlruns/2', experiment_id='2', lifecycle_stage='active', name='usman-practice-experiment-2', tags={}>"
      ]
     },
     "metadata": {},
     "execution_count": 14
    }
   ],
   "metadata": {}
  },
  {
   "cell_type": "code",
   "execution_count": 15,
   "source": [
    "model_list = [\r\n",
    "LinearRegression, Lasso, Ridge, ElasticNet\r\n",
    "]\r\n",
    "\r\n",
    "mlflow.sklearn.autolog()\r\n",
    "\r\n",
    "for model in model_list:\r\n",
    "    with mlflow.start_run(experiment_id=2):\r\n",
    "    \r\n",
    "\r\n",
    "        mlflow.log_param('train-data-path', './Data/green_tripdata_2021-01.parquet')\r\n",
    "\r\n",
    "        mlflow.log_param('test-data-path', './Data/green_tripdata_2021-02.parquet')\r\n",
    "\r\n",
    "        mlflow.log_artifact(\"./models/preprocessor.b\", artifact_path=\"preprocessor\")\r\n",
    "\r\n",
    "        reg = model()\r\n",
    "\r\n",
    "        reg.fit(X_train, y_train)\r\n",
    "\r\n",
    "        y_pred = reg.predict(X_test)\r\n",
    "\r\n",
    "        rmse = mean_squared_error(y_test, y_pred, squared=False)\r\n",
    "        \r\n",
    "        mlflow.log_metric('rmse', rmse)\r\n",
    "\r\n",
    "        \r\n"
   ],
   "outputs": [
    {
     "output_type": "stream",
     "name": "stderr",
     "text": [
      "2022/06/02 12:44:35 WARNING mlflow.utils.autologging_utils: MLflow autologging encountered a warning: \"c:\\Users\\Usman\\Desktop\\ml_zoomcamp\\venv\\lib\\site-packages\\setuptools\\distutils_patch.py:25: UserWarning: Distutils was imported before Setuptools. This usage is discouraged and may exhibit undesirable behaviors or errors. Please use Setuptools' objects directly or at least import Setuptools first.\"\n"
     ]
    }
   ],
   "metadata": {}
  },
  {
   "cell_type": "markdown",
   "source": [
    "## LOAD MODEL AND TEST FOR PREDICTION"
   ],
   "metadata": {}
  },
  {
   "cell_type": "code",
   "execution_count": 18,
   "source": [
    "logged_model = 'runs:/0f4f17495d994d5fa1ef936b91f741ef/model'\r\n",
    "\r\n",
    "# Load model as a PyFuncModel.\r\n",
    "loaded_model = mlflow.pyfunc.load_model(logged_model)"
   ],
   "outputs": [],
   "metadata": {}
  },
  {
   "cell_type": "code",
   "execution_count": 19,
   "source": [
    "loaded_model"
   ],
   "outputs": [
    {
     "output_type": "execute_result",
     "data": {
      "text/plain": [
       "mlflow.pyfunc.loaded_model:\n",
       "  artifact_path: model\n",
       "  flavor: mlflow.sklearn\n",
       "  run_id: 0f4f17495d994d5fa1ef936b91f741ef"
      ]
     },
     "metadata": {},
     "execution_count": 19
    }
   ],
   "metadata": {}
  },
  {
   "cell_type": "code",
   "execution_count": 20,
   "source": [
    "y_pred = loaded_model.predict(X_test)\r\n",
    "mean_squared_error(y_test, y_pred, squared=False)"
   ],
   "outputs": [
    {
     "output_type": "execute_result",
     "data": {
      "text/plain": [
       "7.758715199477344"
      ]
     },
     "metadata": {},
     "execution_count": 20
    }
   ],
   "metadata": {}
  },
  {
   "cell_type": "code",
   "execution_count": null,
   "source": [],
   "outputs": [],
   "metadata": {}
  }
 ],
 "metadata": {
  "orig_nbformat": 4,
  "language_info": {
   "name": "python",
   "version": "3.9.0",
   "mimetype": "text/x-python",
   "codemirror_mode": {
    "name": "ipython",
    "version": 3
   },
   "pygments_lexer": "ipython3",
   "nbconvert_exporter": "python",
   "file_extension": ".py"
  },
  "kernelspec": {
   "name": "python3",
   "display_name": "Python 3.9.0 64-bit ('venv': venv)"
  },
  "interpreter": {
   "hash": "72d8f6e1992ab58b897e23a1d0f94879461b5cccafcce67f3b9899a0c6dd9b30"
  }
 },
 "nbformat": 4,
 "nbformat_minor": 2
}