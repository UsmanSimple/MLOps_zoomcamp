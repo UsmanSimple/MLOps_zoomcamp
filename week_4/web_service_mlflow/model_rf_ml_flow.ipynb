{
 "cells": [
  {
   "cell_type": "code",
   "execution_count": 2,
   "metadata": {},
   "outputs": [],
   "source": [
    "import pickle\n",
    "\n",
    "import pandas as pd\n",
    "\n",
    "from sklearn.feature_extraction import DictVectorizer\n",
    "from sklearn.ensemble import RandomForestRegressor\n",
    "from sklearn.metrics import mean_squared_error"
   ]
  },
  {
   "cell_type": "code",
   "execution_count": 3,
   "metadata": {},
   "outputs": [
    {
     "name": "stdout",
     "output_type": "stream",
     "text": [
      "ec2-54-153-96-137.us-west-1.compute.amazonaws.com\n"
     ]
    }
   ],
   "source": [
    "import os\n",
    "from dotenv import load_dotenv\n",
    "load_dotenv()\n",
    "os.environ['AWS_PROFILE'] = 'usman_server'\n",
    "server_host = os.getenv('server_host')\n",
    "print(server_host)"
   ]
  },
  {
   "cell_type": "code",
   "execution_count": 4,
   "metadata": {},
   "outputs": [],
   "source": [
    "import mlflow"
   ]
  },
  {
   "cell_type": "code",
   "execution_count": 5,
   "metadata": {},
   "outputs": [],
   "source": [
    "mlflow.set_tracking_uri(f\"http://{server_host}:5000\")"
   ]
  },
  {
   "cell_type": "code",
   "execution_count": 6,
   "metadata": {},
   "outputs": [
    {
     "name": "stdout",
     "output_type": "stream",
     "text": [
      "tracking URI: http://ec2-54-153-96-137.us-west-1.compute.amazonaws.com:5000\n"
     ]
    }
   ],
   "source": [
    "print(f\"tracking URI: {mlflow.get_tracking_uri()}\")"
   ]
  },
  {
   "cell_type": "code",
   "execution_count": 7,
   "metadata": {},
   "outputs": [
    {
     "data": {
      "text/plain": [
       "<Experiment: artifact_location='s3://mlflow-artifact-zoomcamp/1', experiment_id='1', lifecycle_stage='active', name='usman-server-ride-experiment', tags={}>"
      ]
     },
     "execution_count": 7,
     "metadata": {},
     "output_type": "execute_result"
    }
   ],
   "source": [
    "mlflow.set_experiment('usman-server-ride-experiment')\n"
   ]
  },
  {
   "cell_type": "code",
   "execution_count": 8,
   "metadata": {},
   "outputs": [],
   "source": [
    "def read_dataframe(filename: str):\n",
    "    df = pd.read_parquet(filename)\n",
    "\n",
    "    df['duration'] = df.lpep_dropoff_datetime - df.lpep_pickup_datetime\n",
    "    df.duration = df.duration.dt.total_seconds() / 60\n",
    "    df = df[(df.duration >= 1) & (df.duration <= 60)]\n",
    "\n",
    "    categorical = ['PULocationID', 'DOLocationID']\n",
    "    df[categorical] = df[categorical].astype(str)\n",
    "    return df\n",
    "\n",
    "\n",
    "def prepare_dictionaries(df: pd.DataFrame):\n",
    "    df['PU_DO'] = df['PULocationID'] + '_' + df['DOLocationID']\n",
    "    categorical = ['PU_DO']\n",
    "    numerical = ['trip_distance']\n",
    "    dicts = df[categorical + numerical].to_dict(orient='records')\n",
    "    return dicts"
   ]
  },
  {
   "cell_type": "code",
   "execution_count": 9,
   "metadata": {},
   "outputs": [],
   "source": [
    "df_train = read_dataframe('../../week_2/Data/green_tripdata_2021-01.parquet')\n",
    "df_val = read_dataframe('../../week_2/Data/green_tripdata_2021-02.parquet')\n",
    "\n",
    "target = 'duration'\n",
    "y_train = df_train[target].values\n",
    "y_val = df_val[target].values\n",
    "\n",
    "dict_train = prepare_dictionaries(df_train)\n",
    "dict_val = prepare_dictionaries(df_val)\n"
   ]
  },
  {
   "cell_type": "code",
   "execution_count": null,
   "metadata": {},
   "outputs": [],
   "source": [
    "def main(y_train, y_val, dict_train, dict_val):\n",
    "    with mlflow.start_run():\n",
    "        params = dict(max_depth= 20, n_estimators=100, min_samples_leaf=10, random_state = 0)\n",
    "        mlflow.log_params(params)\n",
    "\n",
    "        pipeline = make_pipeline(DictVectorizer(), RandomForestRegressor(**params, n_jobs= -1))\n",
    "\n",
    "        pipeline.fit(dict_train, y_train)\n",
    "\n",
    "        y_pred = pipeline.predict(dict_val)\n",
    "\n",
    "        rmse = mean_squared_error(y_pred, y_val, squared=False)\n",
    "        print(params, rmse)\n",
    "\n",
    "        mlflow.log_metric('rmse', rmse)\n",
    "\n",
    "        mlflow.sklearn.log_model(pipeline, artifact_path = 'model')\n"
   ]
  },
  {
   "cell_type": "code",
   "execution_count": 10,
   "metadata": {},
   "outputs": [
    {
     "name": "stdout",
     "output_type": "stream",
     "text": [
      "{'max_depth': 20, 'n_estimators': 100, 'min_samples_leaf': 10, 'random_state': 0} 6.7558229919200725\n"
     ]
    },
    {
     "name": "stderr",
     "output_type": "stream",
     "text": [
      "c:\\Users\\Usman\\.virtualenvs\\web_service_mlflow-JzKsfKyc\\lib\\site-packages\\_distutils_hack\\__init__.py:33: UserWarning: Setuptools is replacing distutils.\n",
      "  warnings.warn(\"Setuptools is replacing distutils.\")\n"
     ]
    }
   ],
   "source": [
    "with mlflow.start_run():\n",
    "    params = dict(max_depth= 20, n_estimators=100, min_samples_leaf=10, random_state = 0)\n",
    "    mlflow.log_params(params)\n",
    "\n",
    "    dv = DictVectorizer()\n",
    "    model = RandomForestRegressor(**params, n_jobs= -1)\n",
    "\n",
    "    X_train = dv.fit_transform(dict_train)\n",
    "    model.fit(X_train, y_train)\n",
    "\n",
    "    X_val = dv.transform(dict_val)\n",
    "    y_pred = model.predict(X_val)\n",
    "\n",
    "    rmse = mean_squared_error(y_val, y_pred, squared=False)\n",
    "    print(params, rmse)\n",
    "\n",
    "    mlflow.log_metric('rmse', rmse)\n",
    "\n",
    "    mlflow.sklearn.log_model(model, artifact_path = 'model')\n",
    "\n",
    "    with open('dict_vectorizer.bin', 'wb') as f_out:\n",
    "        pickle.dump(dv, f_out)\n",
    "\n",
    "    mlflow.log_artifact('dict_vectorizer.bin')"
   ]
  },
  {
   "cell_type": "code",
   "execution_count": 11,
   "metadata": {},
   "outputs": [
    {
     "name": "stdout",
     "output_type": "stream",
     "text": [
      "Downloading the dict vectorizer to {path}\n",
      "DictVectorizer()\n"
     ]
    }
   ],
   "source": [
    "from mlflow.tracking import MlflowClient\n",
    "\n",
    "tracking_uri = mlflow.get_tracking_uri()\n",
    "run_id= 'c2f6c8d09b61440e890f65149b5777fe'\n",
    "\n",
    "# Load model as a PyFuncModel.\n",
    "client = MlflowClient(tracking_uri = tracking_uri)\n",
    "\n",
    "path = client.download_artifacts(run_id=run_id, path='dict_vectorizer.bin')\n",
    "print(f'Downloading the dict vectorizer to {path}')\n",
    "\n",
    "with open(path, 'rb') as f_out:\n",
    "    dv = pickle.load(f_out)\n",
    "print(dv)"
   ]
  },
  {
   "cell_type": "code",
   "execution_count": 12,
   "metadata": {},
   "outputs": [],
   "source": [
    "path = client.download_artifacts(run_id=run_id, path='dict_vectorizer.bin')\n"
   ]
  },
  {
   "cell_type": "code",
   "execution_count": 14,
   "metadata": {},
   "outputs": [],
   "source": [
    "from sklearn.pipeline import make_pipeline\n"
   ]
  },
  {
   "cell_type": "code",
   "execution_count": 25,
   "metadata": {},
   "outputs": [
    {
     "name": "stdout",
     "output_type": "stream",
     "text": [
      "{'max_depth': 20, 'n_estimators': 100, 'min_samples_leaf': 10, 'random_state': 0} 6.7558229919200725\n"
     ]
    }
   ],
   "source": [
    "def prepare_features(ride):\n",
    "    features = {}\n",
    "    features['PU_DO'] = '%s_%s' % (ride['PULocationID'], ride['DOLocationID'])\n",
    "    features['trip_distance'] = ride['trip_distance']\n",
    "    return features\n",
    "ride = {\n",
    "    \"PULocationID\": 10,\n",
    "    \"DOLocationID\": 50,\n",
    "    \"trip_distance\": 40\n",
    "}\n",
    "features= prepare_features(ride)\n",
    "features\n",
    "with mlflow.start_run():\n",
    "    params = dict(max_depth= 20, n_estimators=100, min_samples_leaf=10, random_state = 0)\n",
    "    mlflow.log_params(params)\n",
    "\n",
    "    pipeline = make_pipeline(DictVectorizer(), RandomForestRegressor(**params, n_jobs= -1))\n",
    "\n",
    "    pipeline.fit(dict_train, y_train)\n",
    "\n",
    "    y_pred = pipeline.predict(dict_val)\n",
    "\n",
    "    rmse = mean_squared_error(y_pred, y_val, squared=False)\n",
    "    print(params, rmse)\n",
    "\n",
    "    mlflow.log_metric('rmse', rmse)\n",
    "\n",
    "    mlflow.sklearn.log_model(pipeline, artifact_path = 'model')\n",
    "\n"
   ]
  },
  {
   "cell_type": "code",
   "execution_count": 26,
   "metadata": {},
   "outputs": [
    {
     "data": {
      "text/plain": [
       "45.50965007660852"
      ]
     },
     "execution_count": 26,
     "metadata": {},
     "output_type": "execute_result"
    }
   ],
   "source": [
    "run_id= '540cc07b5ef34c45aab9fb61837f12e9'\n",
    "logged_model = f\"s3://mlflow-artifact-zoomcamp/1/{run_id}/artifacts/model\"\n",
    "model = mlflow.pyfunc.load_model(logged_model)\n",
    "model.predict(features)[0]"
   ]
  }
 ],
 "metadata": {
  "kernelspec": {
   "display_name": "Python 3.9.0 ('web_service_mlflow-JzKsfKyc')",
   "language": "python",
   "name": "python3"
  },
  "language_info": {
   "codemirror_mode": {
    "name": "ipython",
    "version": 3
   },
   "file_extension": ".py",
   "mimetype": "text/x-python",
   "name": "python",
   "nbconvert_exporter": "python",
   "pygments_lexer": "ipython3",
   "version": "3.9.0"
  },
  "orig_nbformat": 4,
  "vscode": {
   "interpreter": {
    "hash": "ed5f3241be209f30597711f14f4113f3313ae733294e189e019fc4c6ef3975b4"
   }
  }
 },
 "nbformat": 4,
 "nbformat_minor": 2
}
