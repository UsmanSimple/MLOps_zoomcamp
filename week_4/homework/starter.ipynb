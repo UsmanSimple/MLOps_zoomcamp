{
 "cells": [
  {
   "cell_type": "code",
   "execution_count": 1,
   "metadata": {},
   "outputs": [],
   "source": [
    "import pickle\n",
    "import pandas as pd"
   ]
  },
  {
   "cell_type": "code",
   "execution_count": 2,
   "metadata": {},
   "outputs": [],
   "source": [
    "with open('../../week_1/models/regressor.bin', 'rb') as f_in:\n",
    "    dv, lr = pickle.load(f_in)\n"
   ]
  },
  {
   "cell_type": "code",
   "execution_count": 3,
   "metadata": {},
   "outputs": [],
   "source": [
    "categorical = ['PUlocationID', 'DOlocationID']\n",
    "\n",
    "def read_data(filename):\n",
    "    df = pd.read_parquet(filename)\n",
    "    \n",
    "    df['duration'] = df.dropOff_datetime - df.pickup_datetime\n",
    "    df['duration'] = df.duration.dt.total_seconds() / 60\n",
    "\n",
    "    df = df[(df.duration >= 1) & (df.duration <= 60)].copy()\n",
    "\n",
    "    df[categorical] = df[categorical].fillna(-1).astype('int').astype('str')\n",
    "    \n",
    "    return df"
   ]
  },
  {
   "cell_type": "code",
   "execution_count": 4,
   "metadata": {},
   "outputs": [],
   "source": [
    "df = read_data('https://nyc-tlc.s3.amazonaws.com/trip+data/fhv_tripdata_2021-02.parquet')\n"
   ]
  },
  {
   "cell_type": "code",
   "execution_count": 5,
   "metadata": {},
   "outputs": [],
   "source": [
    "dicts = df[categorical].to_dict(orient='records')\n",
    "X_val = dv.transform(dicts)\n",
    "y_pred = lr.predict(X_val)"
   ]
  },
  {
   "cell_type": "code",
   "execution_count": 6,
   "metadata": {},
   "outputs": [
    {
     "name": "stdout",
     "output_type": "stream",
     "text": [
      "y_pred mean is 25.81928513703315\n"
     ]
    }
   ],
   "source": [
    "# Question 1 -What's the mean predicted duration for this dataset?\n",
    "print(f'y_pred mean is {y_pred.mean()}')"
   ]
  },
  {
   "cell_type": "code",
   "execution_count": 8,
   "metadata": {},
   "outputs": [
    {
     "name": "stderr",
     "output_type": "stream",
     "text": [
      "Future exception was never retrieved\n",
      "future: <Future finished exception=ClientOSError(10053, 'An established connection was aborted by the software in your host machine', None, 10053, None)>\n",
      "aiohttp.client_exceptions.ClientOSError: [WinError 10053] An established connection was aborted by the software in your host machine\n"
     ]
    },
    {
     "name": "stdout",
     "output_type": "stream",
     "text": [
      "Save df_result into {output_file} in the s3 bucket}\n"
     ]
    }
   ],
   "source": [
    "# Question 2 - What's the size of the output file?\n",
    "year = 2021\n",
    "month = 2\n",
    "taxi_type = 'fhv'\n",
    "\n",
    "df['ride_id'] = f'{year:04d}/{month:02d}_' + df.index.astype('str')\n",
    "\n",
    "# create an empty dataframe for the prediction and ride_id\n",
    "df_result = pd.DataFrame()\n",
    "df_result[\"predictions\"] = y_pred\n",
    "df_result['ride_id'] = df['ride_id']\n",
    "\n",
    "print(df_result.info())\n",
    "\n",
    "# output file s3 bucket to store the dataframe df_result\n",
    "output_file = f's3://nyc-duration-prediction-usman/taxi_type={taxi_type}/year={year:04d}/month={month:02d}.parquet'\n",
    "\n",
    "# storing the dataframe as parquet file in s3 bucket\n",
    "df_result.to_parquet(\n",
    "    output_file,\n",
    "    engine='pyarrow',\n",
    "    compression=None,\n",
    "    index=False\n",
    ")\n",
    "print('Save df_result into {output_file} in the s3 bucket}')"
   ]
  },
  {
   "cell_type": "code",
   "execution_count": 9,
   "metadata": {},
   "outputs": [
    {
     "name": "stdout",
     "output_type": "stream",
     "text": [
      "<class 'pandas.core.frame.DataFrame'>\n",
      "RangeIndex: 990113 entries, 0 to 990112\n",
      "Data columns (total 2 columns):\n",
      " #   Column       Non-Null Count   Dtype  \n",
      "---  ------       --------------   -----  \n",
      " 0   predictions  990113 non-null  float64\n",
      " 1   ride_id      943966 non-null  object \n",
      "dtypes: float64(1), object(1)\n",
      "memory usage: 15.1+ MB\n"
     ]
    }
   ],
   "source": [
    "df_result.info()"
   ]
  },
  {
   "cell_type": "code",
   "execution_count": null,
   "metadata": {},
   "outputs": [],
   "source": []
  }
 ],
 "metadata": {
  "kernelspec": {
   "display_name": "Python 3.9.0 ('homework-EvgRJyfq')",
   "language": "python",
   "name": "python3"
  },
  "language_info": {
   "codemirror_mode": {
    "name": "ipython",
    "version": 3
   },
   "file_extension": ".py",
   "mimetype": "text/x-python",
   "name": "python",
   "nbconvert_exporter": "python",
   "pygments_lexer": "ipython3",
   "version": "3.9.0"
  },
  "orig_nbformat": 4,
  "vscode": {
   "interpreter": {
    "hash": "1a952153d6288528ca7297fffd713ab7ab620a1812e8f31108e4c0e3a0327c42"
   }
  }
 },
 "nbformat": 4,
 "nbformat_minor": 2
}
